{
  "nbformat": 4,
  "nbformat_minor": 0,
  "metadata": {
    "colab": {
      "name": "Project Website Backend",
      "provenance": [],
      "collapsed_sections": [],
      "include_colab_link": true
    },
    "kernelspec": {
      "name": "python3",
      "display_name": "Python 3"
    }
  },
  "cells": [
    {
      "cell_type": "markdown",
      "metadata": {
        "id": "view-in-github",
        "colab_type": "text"
      },
      "source": [
        "<a href=\"https://colab.research.google.com/github/sandyyadav/major-project/blob/main/Project_Website_Backend.ipynb\" target=\"_parent\"><img src=\"https://colab.research.google.com/assets/colab-badge.svg\" alt=\"Open In Colab\"/></a>"
      ]
    },
    {
      "cell_type": "code",
      "metadata": {
        "id": "76-IGQJSqT1g"
      },
      "source": [
        "datafolder=\"/content/drive/MyDrive/project excel sheet/project_data\""
      ],
      "execution_count": null,
      "outputs": []
    },
    {
      "cell_type": "markdown",
      "source": [
        "extra work\n"
      ],
      "metadata": {
        "id": "s2Ei1mab93zv"
      }
    },
    {
      "cell_type": "code",
      "source": [
        "from google.colab import drive\n",
        "drive.mount('/content/drive')"
      ],
      "metadata": {
        "colab": {
          "base_uri": "https://localhost:8080/"
        },
        "id": "799ivFej-AL1",
        "outputId": "b74631d0-9533-466b-c84b-4f51c362e116"
      },
      "execution_count": null,
      "outputs": [
        {
          "output_type": "stream",
          "name": "stdout",
          "text": [
            "Drive already mounted at /content/drive; to attempt to forcibly remount, call drive.mount(\"/content/drive\", force_remount=True).\n"
          ]
        }
      ]
    },
    {
      "cell_type": "markdown",
      "source": [
        ""
      ],
      "metadata": {
        "id": "NnYV0ucr94rC"
      }
    },
    {
      "cell_type": "code",
      "source": [
        "!gdown --id 1-4BOBKmLfne9wRLW5wGEVdze3ala5FBf"
      ],
      "metadata": {
        "id": "-xFUzUn-AwJu",
        "colab": {
          "base_uri": "https://localhost:8080/"
        },
        "outputId": "ba3d85c2-87c3-4063-feb0-d9d22f62f259"
      },
      "execution_count": 1,
      "outputs": [
        {
          "output_type": "stream",
          "name": "stdout",
          "text": [
            "Downloading...\n",
            "From: https://drive.google.com/uc?id=1-4BOBKmLfne9wRLW5wGEVdze3ala5FBf\n",
            "To: /content/name.csv\n",
            "\r  0% 0.00/1.42k [00:00<?, ?B/s]\r100% 1.42k/1.42k [00:00<00:00, 1.30MB/s]\n"
          ]
        }
      ]
    },
    {
      "cell_type": "code",
      "source": [
        "import pandas as pd\n",
        "import numpy as np\n",
        "filename = \"/content/name.csv\"\n",
        "df = pd.read_csv(filename)"
      ],
      "metadata": {
        "id": "X68ZpETq4wFv"
      },
      "execution_count": 2,
      "outputs": []
    },
    {
      "cell_type": "code",
      "source": [
        "df.head()"
      ],
      "metadata": {
        "id": "JnBcBk-WeQV4",
        "colab": {
          "base_uri": "https://localhost:8080/",
          "height": 206
        },
        "outputId": "e865e671-c285-44e3-97a0-2b7955ea04f5"
      },
      "execution_count": 3,
      "outputs": [
        {
          "output_type": "execute_result",
          "data": {
            "text/html": [
              "\n",
              "  <div id=\"df-1f8f5a50-0456-4228-8d73-eef922ea35a0\">\n",
              "    <div class=\"colab-df-container\">\n",
              "      <div>\n",
              "<style scoped>\n",
              "    .dataframe tbody tr th:only-of-type {\n",
              "        vertical-align: middle;\n",
              "    }\n",
              "\n",
              "    .dataframe tbody tr th {\n",
              "        vertical-align: top;\n",
              "    }\n",
              "\n",
              "    .dataframe thead th {\n",
              "        text-align: right;\n",
              "    }\n",
              "</style>\n",
              "<table border=\"1\" class=\"dataframe\">\n",
              "  <thead>\n",
              "    <tr style=\"text-align: right;\">\n",
              "      <th></th>\n",
              "      <th>leaf_division</th>\n",
              "      <th>leaf_apices</th>\n",
              "      <th>leaf_basics</th>\n",
              "      <th>leaf_shape</th>\n",
              "      <th>margins</th>\n",
              "      <th>patterns</th>\n",
              "      <th>final_decision</th>\n",
              "    </tr>\n",
              "  </thead>\n",
              "  <tbody>\n",
              "    <tr>\n",
              "      <th>0</th>\n",
              "      <td>n1</td>\n",
              "      <td>acuminate</td>\n",
              "      <td>cordate</td>\n",
              "      <td>ovate</td>\n",
              "      <td>serrate</td>\n",
              "      <td>palmate</td>\n",
              "      <td>1</td>\n",
              "    </tr>\n",
              "    <tr>\n",
              "      <th>1</th>\n",
              "      <td>n2</td>\n",
              "      <td>acuminate</td>\n",
              "      <td>rounded</td>\n",
              "      <td>ovate</td>\n",
              "      <td>entire</td>\n",
              "      <td>pinnate</td>\n",
              "      <td>2</td>\n",
              "    </tr>\n",
              "    <tr>\n",
              "      <th>2</th>\n",
              "      <td>n3</td>\n",
              "      <td>acuminate</td>\n",
              "      <td>cuneate</td>\n",
              "      <td>linear</td>\n",
              "      <td>undulate</td>\n",
              "      <td>pinnate</td>\n",
              "      <td>3</td>\n",
              "    </tr>\n",
              "    <tr>\n",
              "      <th>3</th>\n",
              "      <td>n4</td>\n",
              "      <td>acuminate</td>\n",
              "      <td>attenuate</td>\n",
              "      <td>elliptical</td>\n",
              "      <td>entire</td>\n",
              "      <td>pinnate</td>\n",
              "      <td>4</td>\n",
              "    </tr>\n",
              "    <tr>\n",
              "      <th>4</th>\n",
              "      <td>n5</td>\n",
              "      <td>acuminate</td>\n",
              "      <td>attenuate</td>\n",
              "      <td>lanceolate</td>\n",
              "      <td>sinuate</td>\n",
              "      <td>pinnate</td>\n",
              "      <td>5</td>\n",
              "    </tr>\n",
              "  </tbody>\n",
              "</table>\n",
              "</div>\n",
              "      <button class=\"colab-df-convert\" onclick=\"convertToInteractive('df-1f8f5a50-0456-4228-8d73-eef922ea35a0')\"\n",
              "              title=\"Convert this dataframe to an interactive table.\"\n",
              "              style=\"display:none;\">\n",
              "        \n",
              "  <svg xmlns=\"http://www.w3.org/2000/svg\" height=\"24px\"viewBox=\"0 0 24 24\"\n",
              "       width=\"24px\">\n",
              "    <path d=\"M0 0h24v24H0V0z\" fill=\"none\"/>\n",
              "    <path d=\"M18.56 5.44l.94 2.06.94-2.06 2.06-.94-2.06-.94-.94-2.06-.94 2.06-2.06.94zm-11 1L8.5 8.5l.94-2.06 2.06-.94-2.06-.94L8.5 2.5l-.94 2.06-2.06.94zm10 10l.94 2.06.94-2.06 2.06-.94-2.06-.94-.94-2.06-.94 2.06-2.06.94z\"/><path d=\"M17.41 7.96l-1.37-1.37c-.4-.4-.92-.59-1.43-.59-.52 0-1.04.2-1.43.59L10.3 9.45l-7.72 7.72c-.78.78-.78 2.05 0 2.83L4 21.41c.39.39.9.59 1.41.59.51 0 1.02-.2 1.41-.59l7.78-7.78 2.81-2.81c.8-.78.8-2.07 0-2.86zM5.41 20L4 18.59l7.72-7.72 1.47 1.35L5.41 20z\"/>\n",
              "  </svg>\n",
              "      </button>\n",
              "      \n",
              "  <style>\n",
              "    .colab-df-container {\n",
              "      display:flex;\n",
              "      flex-wrap:wrap;\n",
              "      gap: 12px;\n",
              "    }\n",
              "\n",
              "    .colab-df-convert {\n",
              "      background-color: #E8F0FE;\n",
              "      border: none;\n",
              "      border-radius: 50%;\n",
              "      cursor: pointer;\n",
              "      display: none;\n",
              "      fill: #1967D2;\n",
              "      height: 32px;\n",
              "      padding: 0 0 0 0;\n",
              "      width: 32px;\n",
              "    }\n",
              "\n",
              "    .colab-df-convert:hover {\n",
              "      background-color: #E2EBFA;\n",
              "      box-shadow: 0px 1px 2px rgba(60, 64, 67, 0.3), 0px 1px 3px 1px rgba(60, 64, 67, 0.15);\n",
              "      fill: #174EA6;\n",
              "    }\n",
              "\n",
              "    [theme=dark] .colab-df-convert {\n",
              "      background-color: #3B4455;\n",
              "      fill: #D2E3FC;\n",
              "    }\n",
              "\n",
              "    [theme=dark] .colab-df-convert:hover {\n",
              "      background-color: #434B5C;\n",
              "      box-shadow: 0px 1px 3px 1px rgba(0, 0, 0, 0.15);\n",
              "      filter: drop-shadow(0px 1px 2px rgba(0, 0, 0, 0.3));\n",
              "      fill: #FFFFFF;\n",
              "    }\n",
              "  </style>\n",
              "\n",
              "      <script>\n",
              "        const buttonEl =\n",
              "          document.querySelector('#df-1f8f5a50-0456-4228-8d73-eef922ea35a0 button.colab-df-convert');\n",
              "        buttonEl.style.display =\n",
              "          google.colab.kernel.accessAllowed ? 'block' : 'none';\n",
              "\n",
              "        async function convertToInteractive(key) {\n",
              "          const element = document.querySelector('#df-1f8f5a50-0456-4228-8d73-eef922ea35a0');\n",
              "          const dataTable =\n",
              "            await google.colab.kernel.invokeFunction('convertToInteractive',\n",
              "                                                     [key], {});\n",
              "          if (!dataTable) return;\n",
              "\n",
              "          const docLinkHtml = 'Like what you see? Visit the ' +\n",
              "            '<a target=\"_blank\" href=https://colab.research.google.com/notebooks/data_table.ipynb>data table notebook</a>'\n",
              "            + ' to learn more about interactive tables.';\n",
              "          element.innerHTML = '';\n",
              "          dataTable['output_type'] = 'display_data';\n",
              "          await google.colab.output.renderOutput(dataTable, element);\n",
              "          const docLink = document.createElement('div');\n",
              "          docLink.innerHTML = docLinkHtml;\n",
              "          element.appendChild(docLink);\n",
              "        }\n",
              "      </script>\n",
              "    </div>\n",
              "  </div>\n",
              "  "
            ],
            "text/plain": [
              "  leaf_division leaf_apices leaf_basics  ...   margins patterns final_decision\n",
              "0            n1   acuminate     cordate  ...   serrate  palmate              1\n",
              "1            n2   acuminate     rounded  ...    entire  pinnate              2\n",
              "2            n3   acuminate     cuneate  ...  undulate  pinnate              3\n",
              "3            n4   acuminate   attenuate  ...    entire  pinnate              4\n",
              "4            n5   acuminate   attenuate  ...   sinuate  pinnate              5\n",
              "\n",
              "[5 rows x 7 columns]"
            ]
          },
          "metadata": {},
          "execution_count": 3
        }
      ]
    },
    {
      "cell_type": "code",
      "source": [
        "leaf_division = df[\"leaf_division\"]\n",
        "column_leaf_apices = df[\"leaf_apices\"]\n",
        "column_leaf_basics = df[\"leaf_basics\"]\n",
        "column_leaf_shape = df[\"leaf_shape\"]\n",
        "column_margin = df[\"margins\"]\n",
        "column_pattern = df[\"patterns\"]"
      ],
      "metadata": {
        "id": "vLkFgUKKegVw"
      },
      "execution_count": 4,
      "outputs": []
    },
    {
      "cell_type": "code",
      "source": [
        "#leaf_pattern\n",
        "leaf_pattern = {}\n",
        "idx = 0\n",
        "for typ in column_pattern:\n",
        "  if typ not in leaf_pattern:\n",
        "    leaf_pattern[typ] = []\n",
        "  leaf_pattern[typ].append(leaf_division[idx])\n",
        "  idx = idx+1\n",
        "leaf_pattern"
      ],
      "metadata": {
        "id": "5-hnxyLzokjW",
        "colab": {
          "base_uri": "https://localhost:8080/"
        },
        "outputId": "56b064bc-00c7-4536-88d6-1d099f4d4432"
      },
      "execution_count": 5,
      "outputs": [
        {
          "output_type": "execute_result",
          "data": {
            "text/plain": [
              "{'palmate': ['n1', 'leaf2', 'leaf6', 'leaf8', 'leaf12'],\n",
              " 'pinnate': ['n2',\n",
              "  'n3',\n",
              "  'n4',\n",
              "  'n5',\n",
              "  'n6',\n",
              "  'n7',\n",
              "  'n8',\n",
              "  'n9',\n",
              "  'n10',\n",
              "  'n31',\n",
              "  'leaf1',\n",
              "  'leaf3',\n",
              "  'leaf4',\n",
              "  'leaf5',\n",
              "  'leaf7',\n",
              "  'leaf9',\n",
              "  'leaf10',\n",
              "  'leaf11',\n",
              "  'leaf13',\n",
              "  'leaf14',\n",
              "  'leaf15']}"
            ]
          },
          "metadata": {},
          "execution_count": 5
        }
      ]
    },
    {
      "cell_type": "code",
      "source": [
        "# leaf_margin\n",
        "leaf_margin = {}\n",
        "idx = 0\n",
        "for typ in column_margin:\n",
        "  if typ not in leaf_margin:\n",
        "    leaf_margin[typ] = []\n",
        "  leaf_margin[typ].append(leaf_division[idx])\n",
        "  idx = idx+1\n",
        "leaf_margin"
      ],
      "metadata": {
        "id": "pc16C5hFoYz4",
        "colab": {
          "base_uri": "https://localhost:8080/"
        },
        "outputId": "ad2a6f5e-8320-4e48-e2b0-af4d45728670"
      },
      "execution_count": 6,
      "outputs": [
        {
          "output_type": "execute_result",
          "data": {
            "text/plain": [
              "{'dantate': ['leaf9'],\n",
              " 'doubly_serrate': ['n8', 'leaf1', 'leaf5', 'leaf14'],\n",
              " 'entire': ['n2', 'n4', 'n6', 'n7', 'n9', 'n10'],\n",
              " 'lobed': ['leaf4'],\n",
              " 'serrate': ['n1', 'leaf6', 'leaf8', 'leaf10', 'leaf13'],\n",
              " 'serrulate': ['leaf3', 'leaf7', 'leaf11', 'leaf12'],\n",
              " 'sinuate': ['n5'],\n",
              " 'spinose': ['leaf2'],\n",
              " 'undulate': ['n3', 'n31', 'leaf15']}"
            ]
          },
          "metadata": {},
          "execution_count": 6
        }
      ]
    },
    {
      "cell_type": "code",
      "source": [
        "#leaf_shape\n",
        "leaf_shape = {}\n",
        "idx = 0\n",
        "for typ in column_leaf_shape:\n",
        "  if typ not in leaf_shape:\n",
        "    leaf_shape[typ] = []\n",
        "  leaf_shape[typ].append(leaf_division[idx])\n",
        "  idx = idx+1\n",
        "leaf_shape"
      ],
      "metadata": {
        "id": "rFBp4cjNoKaK",
        "colab": {
          "base_uri": "https://localhost:8080/"
        },
        "outputId": "b348ee2e-f4f3-4545-9ded-c7a98ac13d55"
      },
      "execution_count": 7,
      "outputs": [
        {
          "output_type": "execute_result",
          "data": {
            "text/plain": [
              "{'cordate': ['n6', 'leaf9', 'leaf12', 'leaf13'],\n",
              " 'elliptical': ['n4', 'n7', 'leaf1', 'leaf8', 'leaf10', 'leaf14'],\n",
              " 'hastate': ['leaf2'],\n",
              " 'lanceolate': ['n5', 'n9', 'leaf7'],\n",
              " 'linear': ['n3', 'n10', 'n31'],\n",
              " 'oblong': ['leaf4'],\n",
              " 'ovate': ['n1', 'n2', 'n8', 'leaf3', 'leaf5', 'leaf6', 'leaf11', 'leaf15']}"
            ]
          },
          "metadata": {},
          "execution_count": 7
        }
      ]
    },
    {
      "cell_type": "code",
      "source": [
        "#leaf apices\n",
        "leaf_apices = {}\n",
        "idx = 0\n",
        "for typ in column_leaf_apices:\n",
        "  if typ not in leaf_apices:\n",
        "    leaf_apices[typ] = []\n",
        "  leaf_apices[typ].append(leaf_division[idx])\n",
        "  idx = idx+1\n",
        "leaf_apices"
      ],
      "metadata": {
        "id": "PJSWZ1NpnjcX",
        "colab": {
          "base_uri": "https://localhost:8080/"
        },
        "outputId": "8aaee9ab-c563-470a-923c-1c292d88a975"
      },
      "execution_count": 8,
      "outputs": [
        {
          "output_type": "execute_result",
          "data": {
            "text/plain": [
              "{'acuminate': ['n1',\n",
              "  'n2',\n",
              "  'n3',\n",
              "  'n4',\n",
              "  'n5',\n",
              "  'n7',\n",
              "  'n8',\n",
              "  'n9',\n",
              "  'n10',\n",
              "  'n31',\n",
              "  'leaf1',\n",
              "  'leaf2',\n",
              "  'leaf3',\n",
              "  'leaf6',\n",
              "  'leaf7',\n",
              "  'leaf9',\n",
              "  'leaf11',\n",
              "  'leaf12',\n",
              "  'leaf14'],\n",
              " 'acute': ['leaf5', 'leaf8', 'leaf10', 'leaf13', 'leaf15'],\n",
              " 'obtuse': ['leaf4'],\n",
              " 'rounded': ['n6']}"
            ]
          },
          "metadata": {},
          "execution_count": 8
        }
      ]
    },
    {
      "cell_type": "code",
      "source": [
        "#leaf basics\n",
        "leaf_basics = {}\n",
        "idx = 0\n",
        "for typ in column_leaf_basics:\n",
        "  if typ not in leaf_basics:\n",
        "    leaf_basics[typ] = []\n",
        "  leaf_basics[typ].append(leaf_division[idx])\n",
        "  idx = idx+1\n",
        "leaf_basics"
      ],
      "metadata": {
        "id": "nhEgjoZ5n1ge",
        "colab": {
          "base_uri": "https://localhost:8080/"
        },
        "outputId": "9f0c58f5-ebfb-4bc4-aa1a-86a6c1217618"
      },
      "execution_count": 9,
      "outputs": [
        {
          "output_type": "execute_result",
          "data": {
            "text/plain": [
              "{'acute': ['leaf5'],\n",
              " 'attenuate': ['n4', 'n5'],\n",
              " 'auriculate': ['leaf4'],\n",
              " 'cordate': ['n1', 'n6', 'n8', 'leaf6', 'leaf11', 'leaf12'],\n",
              " 'cuneate': ['n3'],\n",
              " 'cunneate': ['n7', 'n31', 'leaf7'],\n",
              " 'hastate': ['leaf2'],\n",
              " 'oblique': ['leaf1',\n",
              "  'leaf3',\n",
              "  'leaf9',\n",
              "  'leaf10',\n",
              "  'leaf13',\n",
              "  'leaf14',\n",
              "  'leaf15'],\n",
              " 'rounded': ['n2', 'n9', 'n10', 'leaf8']}"
            ]
          },
          "metadata": {},
          "execution_count": 9
        }
      ]
    },
    {
      "cell_type": "code",
      "source": [
        "from IPython.display import Image\n",
        "import random\n",
        "import os"
      ],
      "metadata": {
        "id": "TUS5SsGnAiTT"
      },
      "execution_count": null,
      "outputs": []
    },
    {
      "cell_type": "code",
      "source": [
        "#@title Select Leaf Apices { run: \"auto\" }\n",
        "dropdown = 'acuminate' #@param [\"none\",\"acuminate\", \"rounded\", \"obtuse\",\"acute\"]\n",
        "option1_leaf_apices = dropdown\n",
        "arr1 = leaf_apices[option1_leaf_apices]\n",
        "ans = arr1\n",
        "ans"
      ],
      "metadata": {
        "id": "8g52-ZT6px6r",
        "cellView": "form"
      },
      "execution_count": null,
      "outputs": []
    },
    {
      "cell_type": "code",
      "source": [
        "#@title Select Leaf Basics { run: \"auto\" }\n",
        "dropdown = 'oblique' #@param [\"none\",\"cordate\", \"rounded\", \"cuneate\",\"attenuate\",\"oblique\",\"hastate\",\"auriculate\",\"acute\"]\n",
        "option2_leaf_basics = dropdown\n",
        "arr2 = leaf_basics[option2_leaf_basics]\n",
        "finalArray = [arr1,arr2]\n",
        "st = set.intersection(*[set(x) for x in finalArray])\n",
        "ans = []\n",
        "for folder in st:\n",
        "  ans.append(folder)\n",
        "ans"
      ],
      "metadata": {
        "id": "5duPh9c43v4C",
        "cellView": "form"
      },
      "execution_count": null,
      "outputs": []
    },
    {
      "cell_type": "code",
      "source": [
        "#@title Select Leaf Shape { run: \"auto\" }\n",
        "dropdown = 'ovate' #@param [\"none\",\"ovate\", \"linear\", \"elliptical\",\"lanceolate\",\"cordate\",\"hastate\",\"oblong\"]\n",
        "option3_leaf_shape = dropdown\n",
        "arr3 = leaf_shape[option3_leaf_shape]\n",
        "finalArray = [arr1,arr2,arr3]\n",
        "st = set.intersection(*[set(x) for x in finalArray])\n",
        "ans = []\n",
        "for folder in st:\n",
        "  ans.append(folder)\n",
        "ans"
      ],
      "metadata": {
        "id": "qc5Vat-a3xCl",
        "colab": {
          "base_uri": "https://localhost:8080/"
        },
        "outputId": "cbc9fd90-4f6d-419e-8076-6c0bddf1a390",
        "cellView": "form"
      },
      "execution_count": null,
      "outputs": [
        {
          "output_type": "execute_result",
          "data": {
            "text/plain": [
              "['leaf3']"
            ]
          },
          "metadata": {},
          "execution_count": 31
        }
      ]
    },
    {
      "cell_type": "code",
      "source": [
        "#@title Select Leaf Margin { run: \"auto\" }\n",
        "dropdown = \"serrate\" #@param [\"none\", \"serrate\", \"entire\", \"undulate\", \"sinuate\", \"doubly_serrate\", \"spinose\", \"serrulate\", \"lobed\", \"dantate\"]\n",
        "option4_leaf_margin = dropdown\n",
        "arr4 = leaf_margin[option4_leaf_margin]\n",
        "finalArray = [arr1,arr2,arr3,arr4]\n",
        "st = set.intersection(*[set(x) for x in finalArray])\n",
        "ans = []\n",
        "for folder in st:\n",
        "  ans.append(folder)\n",
        "ans"
      ],
      "metadata": {
        "id": "OLxVR1fB4U8d",
        "colab": {
          "base_uri": "https://localhost:8080/"
        },
        "outputId": "37d5189a-6aa7-4eb9-bb45-d1de3741140d",
        "cellView": "form"
      },
      "execution_count": null,
      "outputs": [
        {
          "output_type": "execute_result",
          "data": {
            "text/plain": [
              "[]"
            ]
          },
          "metadata": {},
          "execution_count": 34
        }
      ]
    },
    {
      "cell_type": "code",
      "source": [
        "#@title Select Leaf Pattern { run: \"auto\" }\n",
        "dropdown = 'pinnate' #@param [\"none\",\"pinnate\",\"palmate\"]\n",
        "option5_leaf_pattern = dropdown\n",
        "arr5 = leaf_pattern[option5_leaf_pattern]\n",
        "finalArray = [arr1,arr2,arr3,arr4,arr5]\n",
        "st = set.intersection(*[set(x) for x in finalArray])\n",
        "ans = []\n",
        "for folder in st:\n",
        "  ans.append(folder)\n",
        "ans"
      ],
      "metadata": {
        "id": "O7MxJYEs4lI3",
        "cellView": "form"
      },
      "execution_count": null,
      "outputs": []
    },
    {
      "cell_type": "code",
      "source": [
        "#@title Website FrontEnd { run: \"auto\" }\n",
        "\n",
        "LEAF_APICES = 'none' #@param [\"none\",\"acuminate\", \"rounded\", \"obtuse\",\"acute\"]\n",
        "LEAF_BASICS = 'oblique' #@param [\"none\",\"cordate\", \"rounded\", \"cuneate\",\"attenuate\",\"oblique\",\"hastate\",\"auriculate\",\"acute\"]\n",
        "LEAF_SHAPE = 'ovate' #@param [\"none\",\"ovate\", \"linear\", \"elliptical\",\"lanceolate\",\"cordate\",\"hastate\",\"oblong\"]\n",
        "LEAF_MARGIN = 'none' #@param [\"none\", \"serrate\", \"entire\", \"undulate\", \"sinuate\", \"doubly_serrate\", \"spinose\", \"serrulate\", \"lobed\", \"dantate\"]\n",
        "LEAF_PATTERN = 'none' #@param [\"none\",\"pinnate\",\"palmate\"]\n",
        "\n",
        "option1_leaf_apices = LEAF_APICES\n",
        "option2_leaf_basics = LEAF_BASICS\n",
        "option3_leaf_shape = LEAF_SHAPE\n",
        "option4_leaf_margin = LEAF_MARGIN\n",
        "option5_leaf_pattern = LEAF_PATTERN\n",
        "\n",
        "dictionary = {}\n",
        "\n",
        "if(option1_leaf_apices != 'none'):\n",
        "  arr1 = leaf_apices[option1_leaf_apices]\n",
        "  dictionary['arr1'] = []\n",
        "  dictionary['arr1'] = arr1\n",
        "else:\n",
        "  if 'arr1' in dictionary:\n",
        "    dictionary.pop('arr1')\n",
        "\n",
        "if(option2_leaf_basics != 'none'):\n",
        "  arr2 = leaf_basics[option2_leaf_basics]\n",
        "  dictionary['arr2'] = []\n",
        "  dictionary['arr2'] = arr2\n",
        "else:\n",
        "  if 'arr2' in dictionary:\n",
        "    dictionary.pop('arr2')\n",
        "\n",
        "if(option3_leaf_shape != 'none'):\n",
        "  arr3 = leaf_shape[option3_leaf_shape]\n",
        "  dictionary['arr3'] = []\n",
        "  dictionary['arr3'] = arr3\n",
        "else:\n",
        "  if 'arr3' in dictionary:\n",
        "    dictionary.pop('arr3')\n",
        "\n",
        "if(option4_leaf_margin != 'none'):\n",
        "  arr4 = leaf_margin[option4_leaf_margin]\n",
        "  dictionary['arr4'] = []\n",
        "  dictionary['arr4'] = arr4\n",
        "else:\n",
        "  if 'arr4' in dictionary:\n",
        "    dictionary.pop('arr4')\n",
        "\n",
        "if(option5_leaf_pattern != 'none'):\n",
        "  arr5 = leaf_pattern[option5_leaf_pattern]\n",
        "  dictionary['arr5'] = []\n",
        "  dictionary['arr5'] = arr5\n",
        "else:\n",
        "  if 'arr5' in dictionary:\n",
        "    dictionary.pop('arr5')\n",
        "\n",
        "if(option1_leaf_apices is 'none' and option2_leaf_basics is 'none' and option3_leaf_shape is 'none' and option4_leaf_margin is 'none' and option5_leaf_pattern is 'none'):\n",
        "  dictionary = {}\n",
        "\n",
        "finalArray = []\n",
        "if 'arr1' in dictionary:\n",
        "  finalArray.append(dictionary['arr1'])\n",
        "if 'arr2' in dictionary:\n",
        "  finalArray.append(dictionary['arr2'])\n",
        "if 'arr3' in dictionary:\n",
        "  finalArray.append(dictionary['arr3'])\n",
        "if 'arr4' in dictionary:\n",
        "  finalArray.append(dictionary['arr4'])\n",
        "if 'arr5' in dictionary:\n",
        "  finalArray.append(dictionary['arr5'])\n",
        "\n",
        "if(len(finalArray) == 0):\n",
        "  print(finalArray)\n",
        "elif(len(finalArray) == 1):\n",
        "  print(finalArray[0])\n",
        "else:\n",
        "  st = set.intersection(*[set(x) for x in finalArray])\n",
        "  ans = []\n",
        "  for folder in st:\n",
        "    ans.append(folder)\n",
        "  print(ans)"
      ],
      "metadata": {
        "colab": {
          "base_uri": "https://localhost:8080/"
        },
        "cellView": "form",
        "id": "W12bgwoEUBR3",
        "outputId": "66f36573-4eea-4b10-ec1d-c26d008ab53e"
      },
      "execution_count": 25,
      "outputs": [
        {
          "output_type": "stream",
          "name": "stdout",
          "text": [
            "['leaf3', 'leaf15']\n"
          ]
        }
      ]
    }
  ]
}